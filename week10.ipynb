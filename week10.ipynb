{
  "nbformat": 4,
  "nbformat_minor": 0,
  "metadata": {
    "colab": {
      "provenance": [],
      "authorship_tag": "ABX9TyPPt94OYQ+d4qq/yyjcJl/c",
      "include_colab_link": true
    },
    "kernelspec": {
      "name": "python3",
      "display_name": "Python 3"
    },
    "language_info": {
      "name": "python"
    }
  },
  "cells": [
    {
      "cell_type": "markdown",
      "metadata": {
        "id": "view-in-github",
        "colab_type": "text"
      },
      "source": [
        "<a href=\"https://colab.research.google.com/github/Bhaskar-459/ml_labs/blob/main/week10.ipynb\" target=\"_parent\"><img src=\"https://colab.research.google.com/assets/colab-badge.svg\" alt=\"Open In Colab\"/></a>"
      ]
    },
    {
      "cell_type": "code",
      "execution_count": null,
      "metadata": {
        "colab": {
          "base_uri": "https://localhost:8080/"
        },
        "id": "DUSo3EwSgxbg",
        "outputId": "74207137-e01c-466d-a192-9c039ee62b61"
      },
      "outputs": [
        {
          "output_type": "stream",
          "name": "stdout",
          "text": [
            "   Pregnancies  Glucose  BloodPressure  SkinThickness  Insulin   BMI  \\\n",
            "0            6      148             72             35        0  33.6   \n",
            "1            1       85             66             29        0  26.6   \n",
            "2            8      183             64              0        0  23.3   \n",
            "3            1       89             66             23       94  28.1   \n",
            "4            0      137             40             35      168  43.1   \n",
            "\n",
            "   DiabetesPedigreeFunction  Age  Outcome  \n",
            "0                     0.627   50        1  \n",
            "1                     0.351   31        0  \n",
            "2                     0.672   32        1  \n",
            "3                     0.167   21        0  \n",
            "4                     2.288   33        1  \n",
            "Gaussian Naive Bayes:\n",
            "\n",
            "Accuray:  0.7857142857142857\n",
            "\n",
            "Classifaction report:\n",
            "               precision    recall  f1-score   support\n",
            "\n",
            "           0       0.77      0.94      0.84        95\n",
            "           1       0.84      0.54      0.66        59\n",
            "\n",
            "    accuracy                           0.79       154\n",
            "   macro avg       0.80      0.74      0.75       154\n",
            "weighted avg       0.80      0.79      0.77       154\n",
            "\n",
            "Multinomial Naive Bayes:\n",
            "\n"
          ]
        },
        {
          "output_type": "stream",
          "name": "stderr",
          "text": [
            "/usr/local/lib/python3.10/dist-packages/sklearn/utils/validation.py:1143: DataConversionWarning: A column-vector y was passed when a 1d array was expected. Please change the shape of y to (n_samples, ), for example using ravel().\n",
            "  y = column_or_1d(y, warn=True)\n",
            "/usr/local/lib/python3.10/dist-packages/sklearn/utils/validation.py:1143: DataConversionWarning: A column-vector y was passed when a 1d array was expected. Please change the shape of y to (n_samples, ), for example using ravel().\n",
            "  y = column_or_1d(y, warn=True)\n"
          ]
        },
        {
          "output_type": "stream",
          "name": "stdout",
          "text": [
            "Accuracy:  0.7142857142857143\n",
            "\n",
            " Classification Report:\n",
            "               precision    recall  f1-score   support\n",
            "\n",
            "           0       0.83      0.74      0.78       107\n",
            "           1       0.53      0.66      0.58        47\n",
            "\n",
            "    accuracy                           0.71       154\n",
            "   macro avg       0.68      0.70      0.68       154\n",
            "weighted avg       0.74      0.71      0.72       154\n",
            "\n",
            "Bernoullie Navie Bayes:\n",
            "\n",
            "Accuracy:  0.6168831168831169\n",
            "\n",
            "Classification Report:\n",
            "               precision    recall  f1-score   support\n",
            "\n",
            "           0       0.62      1.00      0.76        95\n",
            "           1       0.00      0.00      0.00        59\n",
            "\n",
            "    accuracy                           0.62       154\n",
            "   macro avg       0.31      0.50      0.38       154\n",
            "weighted avg       0.38      0.62      0.47       154\n",
            "\n"
          ]
        },
        {
          "output_type": "stream",
          "name": "stderr",
          "text": [
            "/usr/local/lib/python3.10/dist-packages/sklearn/utils/validation.py:1143: DataConversionWarning: A column-vector y was passed when a 1d array was expected. Please change the shape of y to (n_samples, ), for example using ravel().\n",
            "  y = column_or_1d(y, warn=True)\n",
            "/usr/local/lib/python3.10/dist-packages/sklearn/metrics/_classification.py:1344: UndefinedMetricWarning: Precision and F-score are ill-defined and being set to 0.0 in labels with no predicted samples. Use `zero_division` parameter to control this behavior.\n",
            "  _warn_prf(average, modifier, msg_start, len(result))\n",
            "/usr/local/lib/python3.10/dist-packages/sklearn/metrics/_classification.py:1344: UndefinedMetricWarning: Precision and F-score are ill-defined and being set to 0.0 in labels with no predicted samples. Use `zero_division` parameter to control this behavior.\n",
            "  _warn_prf(average, modifier, msg_start, len(result))\n",
            "/usr/local/lib/python3.10/dist-packages/sklearn/metrics/_classification.py:1344: UndefinedMetricWarning: Precision and F-score are ill-defined and being set to 0.0 in labels with no predicted samples. Use `zero_division` parameter to control this behavior.\n",
            "  _warn_prf(average, modifier, msg_start, len(result))\n"
          ]
        }
      ],
      "source": [
        "import pandas as pd\n",
        "from sklearn.model_selection import train_test_split\n",
        "from sklearn.naive_bayes import MultinomialNB, GaussianNB, BernoulliNB\n",
        "from sklearn.metrics import accuracy_score, classification_report\n",
        "\n",
        "data = pd.read_csv('diabetes.csv')\n",
        "print(data.head())\n",
        "\n",
        "x= data[['Glucose', 'BloodPressure']]\n",
        "y= data[['Outcome']]\n",
        "\n",
        "x_train, x_test, y_train, y_test = train_test_split(x, y, test_size=0.2, random_state=40)\n",
        "\n",
        "# Gaussian Naive Bayes\n",
        "print(\"Gaussian Naive Bayes:\\n\")\n",
        "nb_classifier = GaussianNB()\n",
        "nb_classifier.fit(x_train, y_train)\n",
        "\n",
        "y_pred = nb_classifier.predict(x_test)\n",
        "\n",
        "accuracy = accuracy_score(y_test, y_pred)\n",
        "print(\"Accuray: \", accuracy)\n",
        "print(\"\\nClassifaction report:\\n\", classification_report(y_test, y_pred))\n",
        "\n",
        "# Multinomial Naive Bayes\n",
        "print(\"Multinomial Naive Bayes:\\n\")\n",
        "nb_classifier1 = MultinomialNB()\n",
        "nb_classifier1.fit(x_train, y_train)\n",
        "\n",
        "y_pred1 = nb_classifier1.predict(x_test)\n",
        "\n",
        "accuracy1 = accuracy_score(y_test, y_pred1)\n",
        "print(\"Accuracy: \", accuracy1)\n",
        "print(\"\\n Classification Report:\\n\", classification_report(y_pred1, y_test))\n",
        "\n",
        "# Bernoulli Naive Bayes\n",
        "print(\"Bernoullie Navie Bayes:\\n\")\n",
        "nb_classifier2 = BernoulliNB()\n",
        "nb_classifier2.fit(x_train, y_train)\n",
        "\n",
        "y_pred2 = nb_classifier2.predict(x_test)\n",
        "\n",
        "accuracy2 = accuracy_score(y_test, y_pred2)\n",
        "print(\"Accuracy: \", accuracy2)\n",
        "print(\"\\nClassification Report:\\n\", classification_report(y_test, y_pred2))"
      ]
    }
  ]
}